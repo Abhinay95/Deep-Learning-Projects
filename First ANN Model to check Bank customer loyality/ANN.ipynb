{
  "nbformat": 4,
  "nbformat_minor": 0,
  "metadata": {
    "colab": {
      "name": "ANN.ipynb",
      "provenance": [],
      "collapsed_sections": []
    },
    "kernelspec": {
      "name": "python3",
      "display_name": "Python 3"
    },
    "accelerator": "GPU"
  },
  "cells": [
    {
      "cell_type": "code",
      "metadata": {
        "id": "3OWuN8PQ6Dnf",
        "colab_type": "code",
        "colab": {
          "base_uri": "https://localhost:8080/",
          "height": 35
        },
        "outputId": "cb04e56e-770f-4bb6-b2d6-2340e13e2f00"
      },
      "source": [
        "2+3"
      ],
      "execution_count": null,
      "outputs": [
        {
          "output_type": "execute_result",
          "data": {
            "text/plain": [
              "5"
            ]
          },
          "metadata": {
            "tags": []
          },
          "execution_count": 1
        }
      ]
    },
    {
      "cell_type": "code",
      "metadata": {
        "id": "h5XaV0rc6hmm",
        "colab_type": "code",
        "colab": {}
      },
      "source": [
        "import pandas as pd"
      ],
      "execution_count": null,
      "outputs": []
    },
    {
      "cell_type": "code",
      "metadata": {
        "id": "iQqXOv2z_Ivq",
        "colab_type": "code",
        "colab": {
          "base_uri": "https://localhost:8080/",
          "height": 222
        },
        "outputId": "2b0c3f30-c799-4f4b-cb00-491c958cc294"
      },
      "source": [
        "df = pd.read_csv('https://raw.githubusercontent.com/krishnaik06/Complete-Deep-Learning/master/ANN/Churn_Modelling.csv')\n",
        "df.head()"
      ],
      "execution_count": null,
      "outputs": [
        {
          "output_type": "execute_result",
          "data": {
            "text/html": [
              "<div>\n",
              "<style scoped>\n",
              "    .dataframe tbody tr th:only-of-type {\n",
              "        vertical-align: middle;\n",
              "    }\n",
              "\n",
              "    .dataframe tbody tr th {\n",
              "        vertical-align: top;\n",
              "    }\n",
              "\n",
              "    .dataframe thead th {\n",
              "        text-align: right;\n",
              "    }\n",
              "</style>\n",
              "<table border=\"1\" class=\"dataframe\">\n",
              "  <thead>\n",
              "    <tr style=\"text-align: right;\">\n",
              "      <th></th>\n",
              "      <th>RowNumber</th>\n",
              "      <th>CustomerId</th>\n",
              "      <th>Surname</th>\n",
              "      <th>CreditScore</th>\n",
              "      <th>Geography</th>\n",
              "      <th>Gender</th>\n",
              "      <th>Age</th>\n",
              "      <th>Tenure</th>\n",
              "      <th>Balance</th>\n",
              "      <th>NumOfProducts</th>\n",
              "      <th>HasCrCard</th>\n",
              "      <th>IsActiveMember</th>\n",
              "      <th>EstimatedSalary</th>\n",
              "      <th>Exited</th>\n",
              "    </tr>\n",
              "  </thead>\n",
              "  <tbody>\n",
              "    <tr>\n",
              "      <th>0</th>\n",
              "      <td>1</td>\n",
              "      <td>15634602</td>\n",
              "      <td>Hargrave</td>\n",
              "      <td>619</td>\n",
              "      <td>France</td>\n",
              "      <td>Female</td>\n",
              "      <td>42</td>\n",
              "      <td>2</td>\n",
              "      <td>0.00</td>\n",
              "      <td>1</td>\n",
              "      <td>1</td>\n",
              "      <td>1</td>\n",
              "      <td>101348.88</td>\n",
              "      <td>1</td>\n",
              "    </tr>\n",
              "    <tr>\n",
              "      <th>1</th>\n",
              "      <td>2</td>\n",
              "      <td>15647311</td>\n",
              "      <td>Hill</td>\n",
              "      <td>608</td>\n",
              "      <td>Spain</td>\n",
              "      <td>Female</td>\n",
              "      <td>41</td>\n",
              "      <td>1</td>\n",
              "      <td>83807.86</td>\n",
              "      <td>1</td>\n",
              "      <td>0</td>\n",
              "      <td>1</td>\n",
              "      <td>112542.58</td>\n",
              "      <td>0</td>\n",
              "    </tr>\n",
              "    <tr>\n",
              "      <th>2</th>\n",
              "      <td>3</td>\n",
              "      <td>15619304</td>\n",
              "      <td>Onio</td>\n",
              "      <td>502</td>\n",
              "      <td>France</td>\n",
              "      <td>Female</td>\n",
              "      <td>42</td>\n",
              "      <td>8</td>\n",
              "      <td>159660.80</td>\n",
              "      <td>3</td>\n",
              "      <td>1</td>\n",
              "      <td>0</td>\n",
              "      <td>113931.57</td>\n",
              "      <td>1</td>\n",
              "    </tr>\n",
              "    <tr>\n",
              "      <th>3</th>\n",
              "      <td>4</td>\n",
              "      <td>15701354</td>\n",
              "      <td>Boni</td>\n",
              "      <td>699</td>\n",
              "      <td>France</td>\n",
              "      <td>Female</td>\n",
              "      <td>39</td>\n",
              "      <td>1</td>\n",
              "      <td>0.00</td>\n",
              "      <td>2</td>\n",
              "      <td>0</td>\n",
              "      <td>0</td>\n",
              "      <td>93826.63</td>\n",
              "      <td>0</td>\n",
              "    </tr>\n",
              "    <tr>\n",
              "      <th>4</th>\n",
              "      <td>5</td>\n",
              "      <td>15737888</td>\n",
              "      <td>Mitchell</td>\n",
              "      <td>850</td>\n",
              "      <td>Spain</td>\n",
              "      <td>Female</td>\n",
              "      <td>43</td>\n",
              "      <td>2</td>\n",
              "      <td>125510.82</td>\n",
              "      <td>1</td>\n",
              "      <td>1</td>\n",
              "      <td>1</td>\n",
              "      <td>79084.10</td>\n",
              "      <td>0</td>\n",
              "    </tr>\n",
              "  </tbody>\n",
              "</table>\n",
              "</div>"
            ],
            "text/plain": [
              "   RowNumber  CustomerId   Surname  ...  IsActiveMember EstimatedSalary Exited\n",
              "0          1    15634602  Hargrave  ...               1       101348.88      1\n",
              "1          2    15647311      Hill  ...               1       112542.58      0\n",
              "2          3    15619304      Onio  ...               0       113931.57      1\n",
              "3          4    15701354      Boni  ...               0        93826.63      0\n",
              "4          5    15737888  Mitchell  ...               1        79084.10      0\n",
              "\n",
              "[5 rows x 14 columns]"
            ]
          },
          "metadata": {
            "tags": []
          },
          "execution_count": 4
        }
      ]
    },
    {
      "cell_type": "code",
      "metadata": {
        "id": "7xQ4UBCjAQRI",
        "colab_type": "code",
        "colab": {}
      },
      "source": [
        "x = df.iloc[:,3:13]\n",
        "y = df.iloc[:,13]"
      ],
      "execution_count": null,
      "outputs": []
    },
    {
      "cell_type": "code",
      "metadata": {
        "id": "LDvgiVFiDntE",
        "colab_type": "code",
        "colab": {
          "base_uri": "https://localhost:8080/",
          "height": 208
        },
        "outputId": "ed8024f7-2f14-4412-ff2c-f389fbed1ff1"
      },
      "source": [
        "x.isnull().sum()"
      ],
      "execution_count": null,
      "outputs": [
        {
          "output_type": "execute_result",
          "data": {
            "text/plain": [
              "CreditScore        0\n",
              "Geography          0\n",
              "Gender             0\n",
              "Age                0\n",
              "Tenure             0\n",
              "Balance            0\n",
              "NumOfProducts      0\n",
              "HasCrCard          0\n",
              "IsActiveMember     0\n",
              "EstimatedSalary    0\n",
              "dtype: int64"
            ]
          },
          "metadata": {
            "tags": []
          },
          "execution_count": 6
        }
      ]
    },
    {
      "cell_type": "code",
      "metadata": {
        "id": "l6RAH4UfGrJs",
        "colab_type": "code",
        "colab": {
          "base_uri": "https://localhost:8080/",
          "height": 35
        },
        "outputId": "bf6ee4cb-1cff-4f5b-d5f9-bd20ecc858c7"
      },
      "source": [
        "x.Geography.unique()"
      ],
      "execution_count": null,
      "outputs": [
        {
          "output_type": "execute_result",
          "data": {
            "text/plain": [
              "array(['France', 'Spain', 'Germany'], dtype=object)"
            ]
          },
          "metadata": {
            "tags": []
          },
          "execution_count": 7
        }
      ]
    },
    {
      "cell_type": "code",
      "metadata": {
        "id": "t65dmTBHGwhs",
        "colab_type": "code",
        "colab": {}
      },
      "source": [
        "geography = pd.get_dummies(x['Geography'],drop_first=True)\n",
        "gender = pd.get_dummies(x['Gender'],drop_first=True)"
      ],
      "execution_count": null,
      "outputs": []
    },
    {
      "cell_type": "code",
      "metadata": {
        "id": "HXfENZntHTX6",
        "colab_type": "code",
        "colab": {
          "base_uri": "https://localhost:8080/",
          "height": 415
        },
        "outputId": "6dd43463-36a6-48ea-be72-8e01d21d05ea"
      },
      "source": [
        "geography"
      ],
      "execution_count": null,
      "outputs": [
        {
          "output_type": "execute_result",
          "data": {
            "text/html": [
              "<div>\n",
              "<style scoped>\n",
              "    .dataframe tbody tr th:only-of-type {\n",
              "        vertical-align: middle;\n",
              "    }\n",
              "\n",
              "    .dataframe tbody tr th {\n",
              "        vertical-align: top;\n",
              "    }\n",
              "\n",
              "    .dataframe thead th {\n",
              "        text-align: right;\n",
              "    }\n",
              "</style>\n",
              "<table border=\"1\" class=\"dataframe\">\n",
              "  <thead>\n",
              "    <tr style=\"text-align: right;\">\n",
              "      <th></th>\n",
              "      <th>Germany</th>\n",
              "      <th>Spain</th>\n",
              "    </tr>\n",
              "  </thead>\n",
              "  <tbody>\n",
              "    <tr>\n",
              "      <th>0</th>\n",
              "      <td>0</td>\n",
              "      <td>0</td>\n",
              "    </tr>\n",
              "    <tr>\n",
              "      <th>1</th>\n",
              "      <td>0</td>\n",
              "      <td>1</td>\n",
              "    </tr>\n",
              "    <tr>\n",
              "      <th>2</th>\n",
              "      <td>0</td>\n",
              "      <td>0</td>\n",
              "    </tr>\n",
              "    <tr>\n",
              "      <th>3</th>\n",
              "      <td>0</td>\n",
              "      <td>0</td>\n",
              "    </tr>\n",
              "    <tr>\n",
              "      <th>4</th>\n",
              "      <td>0</td>\n",
              "      <td>1</td>\n",
              "    </tr>\n",
              "    <tr>\n",
              "      <th>...</th>\n",
              "      <td>...</td>\n",
              "      <td>...</td>\n",
              "    </tr>\n",
              "    <tr>\n",
              "      <th>9995</th>\n",
              "      <td>0</td>\n",
              "      <td>0</td>\n",
              "    </tr>\n",
              "    <tr>\n",
              "      <th>9996</th>\n",
              "      <td>0</td>\n",
              "      <td>0</td>\n",
              "    </tr>\n",
              "    <tr>\n",
              "      <th>9997</th>\n",
              "      <td>0</td>\n",
              "      <td>0</td>\n",
              "    </tr>\n",
              "    <tr>\n",
              "      <th>9998</th>\n",
              "      <td>1</td>\n",
              "      <td>0</td>\n",
              "    </tr>\n",
              "    <tr>\n",
              "      <th>9999</th>\n",
              "      <td>0</td>\n",
              "      <td>0</td>\n",
              "    </tr>\n",
              "  </tbody>\n",
              "</table>\n",
              "<p>10000 rows × 2 columns</p>\n",
              "</div>"
            ],
            "text/plain": [
              "      Germany  Spain\n",
              "0           0      0\n",
              "1           0      1\n",
              "2           0      0\n",
              "3           0      0\n",
              "4           0      1\n",
              "...       ...    ...\n",
              "9995        0      0\n",
              "9996        0      0\n",
              "9997        0      0\n",
              "9998        1      0\n",
              "9999        0      0\n",
              "\n",
              "[10000 rows x 2 columns]"
            ]
          },
          "metadata": {
            "tags": []
          },
          "execution_count": 10
        }
      ]
    },
    {
      "cell_type": "code",
      "metadata": {
        "id": "j6xUG9-AHaAi",
        "colab_type": "code",
        "colab": {
          "base_uri": "https://localhost:8080/",
          "height": 415
        },
        "outputId": "795c9b3e-8bb7-4d92-b311-6392b304af5b"
      },
      "source": [
        "gender"
      ],
      "execution_count": null,
      "outputs": [
        {
          "output_type": "execute_result",
          "data": {
            "text/html": [
              "<div>\n",
              "<style scoped>\n",
              "    .dataframe tbody tr th:only-of-type {\n",
              "        vertical-align: middle;\n",
              "    }\n",
              "\n",
              "    .dataframe tbody tr th {\n",
              "        vertical-align: top;\n",
              "    }\n",
              "\n",
              "    .dataframe thead th {\n",
              "        text-align: right;\n",
              "    }\n",
              "</style>\n",
              "<table border=\"1\" class=\"dataframe\">\n",
              "  <thead>\n",
              "    <tr style=\"text-align: right;\">\n",
              "      <th></th>\n",
              "      <th>Male</th>\n",
              "    </tr>\n",
              "  </thead>\n",
              "  <tbody>\n",
              "    <tr>\n",
              "      <th>0</th>\n",
              "      <td>0</td>\n",
              "    </tr>\n",
              "    <tr>\n",
              "      <th>1</th>\n",
              "      <td>0</td>\n",
              "    </tr>\n",
              "    <tr>\n",
              "      <th>2</th>\n",
              "      <td>0</td>\n",
              "    </tr>\n",
              "    <tr>\n",
              "      <th>3</th>\n",
              "      <td>0</td>\n",
              "    </tr>\n",
              "    <tr>\n",
              "      <th>4</th>\n",
              "      <td>0</td>\n",
              "    </tr>\n",
              "    <tr>\n",
              "      <th>...</th>\n",
              "      <td>...</td>\n",
              "    </tr>\n",
              "    <tr>\n",
              "      <th>9995</th>\n",
              "      <td>1</td>\n",
              "    </tr>\n",
              "    <tr>\n",
              "      <th>9996</th>\n",
              "      <td>1</td>\n",
              "    </tr>\n",
              "    <tr>\n",
              "      <th>9997</th>\n",
              "      <td>0</td>\n",
              "    </tr>\n",
              "    <tr>\n",
              "      <th>9998</th>\n",
              "      <td>1</td>\n",
              "    </tr>\n",
              "    <tr>\n",
              "      <th>9999</th>\n",
              "      <td>0</td>\n",
              "    </tr>\n",
              "  </tbody>\n",
              "</table>\n",
              "<p>10000 rows × 1 columns</p>\n",
              "</div>"
            ],
            "text/plain": [
              "      Male\n",
              "0        0\n",
              "1        0\n",
              "2        0\n",
              "3        0\n",
              "4        0\n",
              "...    ...\n",
              "9995     1\n",
              "9996     1\n",
              "9997     0\n",
              "9998     1\n",
              "9999     0\n",
              "\n",
              "[10000 rows x 1 columns]"
            ]
          },
          "metadata": {
            "tags": []
          },
          "execution_count": 11
        }
      ]
    },
    {
      "cell_type": "code",
      "metadata": {
        "id": "-r5t42bRHdiz",
        "colab_type": "code",
        "colab": {}
      },
      "source": [
        "x = pd.concat([x,geography,gender],axis=1)"
      ],
      "execution_count": null,
      "outputs": []
    },
    {
      "cell_type": "code",
      "metadata": {
        "id": "HtLX23T3HyEM",
        "colab_type": "code",
        "colab": {
          "base_uri": "https://localhost:8080/",
          "height": 202
        },
        "outputId": "58f8bc21-cd06-4bcc-d970-f3376f969c88"
      },
      "source": [
        "x.head()"
      ],
      "execution_count": null,
      "outputs": [
        {
          "output_type": "execute_result",
          "data": {
            "text/html": [
              "<div>\n",
              "<style scoped>\n",
              "    .dataframe tbody tr th:only-of-type {\n",
              "        vertical-align: middle;\n",
              "    }\n",
              "\n",
              "    .dataframe tbody tr th {\n",
              "        vertical-align: top;\n",
              "    }\n",
              "\n",
              "    .dataframe thead th {\n",
              "        text-align: right;\n",
              "    }\n",
              "</style>\n",
              "<table border=\"1\" class=\"dataframe\">\n",
              "  <thead>\n",
              "    <tr style=\"text-align: right;\">\n",
              "      <th></th>\n",
              "      <th>CreditScore</th>\n",
              "      <th>Geography</th>\n",
              "      <th>Gender</th>\n",
              "      <th>Age</th>\n",
              "      <th>Tenure</th>\n",
              "      <th>Balance</th>\n",
              "      <th>NumOfProducts</th>\n",
              "      <th>HasCrCard</th>\n",
              "      <th>IsActiveMember</th>\n",
              "      <th>EstimatedSalary</th>\n",
              "      <th>Germany</th>\n",
              "      <th>Spain</th>\n",
              "      <th>Male</th>\n",
              "    </tr>\n",
              "  </thead>\n",
              "  <tbody>\n",
              "    <tr>\n",
              "      <th>0</th>\n",
              "      <td>619</td>\n",
              "      <td>France</td>\n",
              "      <td>Female</td>\n",
              "      <td>42</td>\n",
              "      <td>2</td>\n",
              "      <td>0.00</td>\n",
              "      <td>1</td>\n",
              "      <td>1</td>\n",
              "      <td>1</td>\n",
              "      <td>101348.88</td>\n",
              "      <td>0</td>\n",
              "      <td>0</td>\n",
              "      <td>0</td>\n",
              "    </tr>\n",
              "    <tr>\n",
              "      <th>1</th>\n",
              "      <td>608</td>\n",
              "      <td>Spain</td>\n",
              "      <td>Female</td>\n",
              "      <td>41</td>\n",
              "      <td>1</td>\n",
              "      <td>83807.86</td>\n",
              "      <td>1</td>\n",
              "      <td>0</td>\n",
              "      <td>1</td>\n",
              "      <td>112542.58</td>\n",
              "      <td>0</td>\n",
              "      <td>1</td>\n",
              "      <td>0</td>\n",
              "    </tr>\n",
              "    <tr>\n",
              "      <th>2</th>\n",
              "      <td>502</td>\n",
              "      <td>France</td>\n",
              "      <td>Female</td>\n",
              "      <td>42</td>\n",
              "      <td>8</td>\n",
              "      <td>159660.80</td>\n",
              "      <td>3</td>\n",
              "      <td>1</td>\n",
              "      <td>0</td>\n",
              "      <td>113931.57</td>\n",
              "      <td>0</td>\n",
              "      <td>0</td>\n",
              "      <td>0</td>\n",
              "    </tr>\n",
              "    <tr>\n",
              "      <th>3</th>\n",
              "      <td>699</td>\n",
              "      <td>France</td>\n",
              "      <td>Female</td>\n",
              "      <td>39</td>\n",
              "      <td>1</td>\n",
              "      <td>0.00</td>\n",
              "      <td>2</td>\n",
              "      <td>0</td>\n",
              "      <td>0</td>\n",
              "      <td>93826.63</td>\n",
              "      <td>0</td>\n",
              "      <td>0</td>\n",
              "      <td>0</td>\n",
              "    </tr>\n",
              "    <tr>\n",
              "      <th>4</th>\n",
              "      <td>850</td>\n",
              "      <td>Spain</td>\n",
              "      <td>Female</td>\n",
              "      <td>43</td>\n",
              "      <td>2</td>\n",
              "      <td>125510.82</td>\n",
              "      <td>1</td>\n",
              "      <td>1</td>\n",
              "      <td>1</td>\n",
              "      <td>79084.10</td>\n",
              "      <td>0</td>\n",
              "      <td>1</td>\n",
              "      <td>0</td>\n",
              "    </tr>\n",
              "  </tbody>\n",
              "</table>\n",
              "</div>"
            ],
            "text/plain": [
              "   CreditScore Geography  Gender  Age  ...  EstimatedSalary  Germany  Spain  Male\n",
              "0          619    France  Female   42  ...        101348.88        0      0     0\n",
              "1          608     Spain  Female   41  ...        112542.58        0      1     0\n",
              "2          502    France  Female   42  ...        113931.57        0      0     0\n",
              "3          699    France  Female   39  ...         93826.63        0      0     0\n",
              "4          850     Spain  Female   43  ...         79084.10        0      1     0\n",
              "\n",
              "[5 rows x 13 columns]"
            ]
          },
          "metadata": {
            "tags": []
          },
          "execution_count": 14
        }
      ]
    },
    {
      "cell_type": "code",
      "metadata": {
        "id": "ub_skTOdH4KB",
        "colab_type": "code",
        "colab": {}
      },
      "source": [
        "x.drop(['Geography','Gender'],axis=1, inplace=True)"
      ],
      "execution_count": null,
      "outputs": []
    },
    {
      "cell_type": "code",
      "metadata": {
        "id": "krs6tKtuID_a",
        "colab_type": "code",
        "colab": {
          "base_uri": "https://localhost:8080/",
          "height": 202
        },
        "outputId": "3608c4eb-e2a7-402a-9e9c-126fbaa15024"
      },
      "source": [
        "x.head()"
      ],
      "execution_count": null,
      "outputs": [
        {
          "output_type": "execute_result",
          "data": {
            "text/html": [
              "<div>\n",
              "<style scoped>\n",
              "    .dataframe tbody tr th:only-of-type {\n",
              "        vertical-align: middle;\n",
              "    }\n",
              "\n",
              "    .dataframe tbody tr th {\n",
              "        vertical-align: top;\n",
              "    }\n",
              "\n",
              "    .dataframe thead th {\n",
              "        text-align: right;\n",
              "    }\n",
              "</style>\n",
              "<table border=\"1\" class=\"dataframe\">\n",
              "  <thead>\n",
              "    <tr style=\"text-align: right;\">\n",
              "      <th></th>\n",
              "      <th>CreditScore</th>\n",
              "      <th>Age</th>\n",
              "      <th>Tenure</th>\n",
              "      <th>Balance</th>\n",
              "      <th>NumOfProducts</th>\n",
              "      <th>HasCrCard</th>\n",
              "      <th>IsActiveMember</th>\n",
              "      <th>EstimatedSalary</th>\n",
              "      <th>Germany</th>\n",
              "      <th>Spain</th>\n",
              "      <th>Male</th>\n",
              "    </tr>\n",
              "  </thead>\n",
              "  <tbody>\n",
              "    <tr>\n",
              "      <th>0</th>\n",
              "      <td>619</td>\n",
              "      <td>42</td>\n",
              "      <td>2</td>\n",
              "      <td>0.00</td>\n",
              "      <td>1</td>\n",
              "      <td>1</td>\n",
              "      <td>1</td>\n",
              "      <td>101348.88</td>\n",
              "      <td>0</td>\n",
              "      <td>0</td>\n",
              "      <td>0</td>\n",
              "    </tr>\n",
              "    <tr>\n",
              "      <th>1</th>\n",
              "      <td>608</td>\n",
              "      <td>41</td>\n",
              "      <td>1</td>\n",
              "      <td>83807.86</td>\n",
              "      <td>1</td>\n",
              "      <td>0</td>\n",
              "      <td>1</td>\n",
              "      <td>112542.58</td>\n",
              "      <td>0</td>\n",
              "      <td>1</td>\n",
              "      <td>0</td>\n",
              "    </tr>\n",
              "    <tr>\n",
              "      <th>2</th>\n",
              "      <td>502</td>\n",
              "      <td>42</td>\n",
              "      <td>8</td>\n",
              "      <td>159660.80</td>\n",
              "      <td>3</td>\n",
              "      <td>1</td>\n",
              "      <td>0</td>\n",
              "      <td>113931.57</td>\n",
              "      <td>0</td>\n",
              "      <td>0</td>\n",
              "      <td>0</td>\n",
              "    </tr>\n",
              "    <tr>\n",
              "      <th>3</th>\n",
              "      <td>699</td>\n",
              "      <td>39</td>\n",
              "      <td>1</td>\n",
              "      <td>0.00</td>\n",
              "      <td>2</td>\n",
              "      <td>0</td>\n",
              "      <td>0</td>\n",
              "      <td>93826.63</td>\n",
              "      <td>0</td>\n",
              "      <td>0</td>\n",
              "      <td>0</td>\n",
              "    </tr>\n",
              "    <tr>\n",
              "      <th>4</th>\n",
              "      <td>850</td>\n",
              "      <td>43</td>\n",
              "      <td>2</td>\n",
              "      <td>125510.82</td>\n",
              "      <td>1</td>\n",
              "      <td>1</td>\n",
              "      <td>1</td>\n",
              "      <td>79084.10</td>\n",
              "      <td>0</td>\n",
              "      <td>1</td>\n",
              "      <td>0</td>\n",
              "    </tr>\n",
              "  </tbody>\n",
              "</table>\n",
              "</div>"
            ],
            "text/plain": [
              "   CreditScore  Age  Tenure    Balance  ...  EstimatedSalary  Germany  Spain  Male\n",
              "0          619   42       2       0.00  ...        101348.88        0      0     0\n",
              "1          608   41       1   83807.86  ...        112542.58        0      1     0\n",
              "2          502   42       8  159660.80  ...        113931.57        0      0     0\n",
              "3          699   39       1       0.00  ...         93826.63        0      0     0\n",
              "4          850   43       2  125510.82  ...         79084.10        0      1     0\n",
              "\n",
              "[5 rows x 11 columns]"
            ]
          },
          "metadata": {
            "tags": []
          },
          "execution_count": 32
        }
      ]
    },
    {
      "cell_type": "code",
      "metadata": {
        "id": "23TDxMtPIFQY",
        "colab_type": "code",
        "colab": {}
      },
      "source": [
        "from sklearn.model_selection import train_test_split\n",
        "x_train,x_test,y_train,y_test = train_test_split(x,y,test_size=0.2,random_state=0)"
      ],
      "execution_count": null,
      "outputs": []
    },
    {
      "cell_type": "code",
      "metadata": {
        "id": "mSNvS0SrIWkP",
        "colab_type": "code",
        "colab": {}
      },
      "source": [
        "import matplotlib.pyplot as plt"
      ],
      "execution_count": null,
      "outputs": []
    },
    {
      "cell_type": "code",
      "metadata": {
        "id": "BUZYX2Z3Id69",
        "colab_type": "code",
        "colab": {
          "base_uri": "https://localhost:8080/",
          "height": 507
        },
        "outputId": "96bbccbc-826d-467a-f39e-94b07c693836"
      },
      "source": [
        "x.hist(bins=20)"
      ],
      "execution_count": null,
      "outputs": [
        {
          "output_type": "execute_result",
          "data": {
            "text/plain": [
              "array([[<matplotlib.axes._subplots.AxesSubplot object at 0x7fdfe659fcc0>,\n",
              "        <matplotlib.axes._subplots.AxesSubplot object at 0x7fdfd4cb1c18>,\n",
              "        <matplotlib.axes._subplots.AxesSubplot object at 0x7fdfd4844d30>],\n",
              "       [<matplotlib.axes._subplots.AxesSubplot object at 0x7fdfd4367550>,\n",
              "        <matplotlib.axes._subplots.AxesSubplot object at 0x7fdfd3efa9e8>,\n",
              "        <matplotlib.axes._subplots.AxesSubplot object at 0x7fdfc8d7ba20>],\n",
              "       [<matplotlib.axes._subplots.AxesSubplot object at 0x7fdfc8d2cc88>,\n",
              "        <matplotlib.axes._subplots.AxesSubplot object at 0x7fdfc8d5eeb8>,\n",
              "        <matplotlib.axes._subplots.AxesSubplot object at 0x7fdfc8d5ef28>],\n",
              "       [<matplotlib.axes._subplots.AxesSubplot object at 0x7fdfc8ccb400>,\n",
              "        <matplotlib.axes._subplots.AxesSubplot object at 0x7fdfc8c7e668>,\n",
              "        <matplotlib.axes._subplots.AxesSubplot object at 0x7fdfc8c2d8d0>]],\n",
              "      dtype=object)"
            ]
          },
          "metadata": {
            "tags": []
          },
          "execution_count": 35
        },
        {
          "output_type": "display_data",
          "data": {
            "image/png": "[encoded data removed]",
            "text/plain": [
              "<Figure size 432x288 with 12 Axes>"
            ]
          },
          "metadata": {
            "tags": [],
            "needs_background": "light"
          }
        }
      ]
    },
    {
      "cell_type": "code",
      "metadata": {
        "id": "VMn-JpcFIhaL",
        "colab_type": "code",
        "colab": {}
      },
      "source": [
        "from sklearn.preprocessing import StandardScaler\n",
        "scale = StandardScaler()\n",
        "x_train = scale.fit_transform(x_train)\n",
        "x_test = scale.transform(x_test)"
      ],
      "execution_count": null,
      "outputs": []
    },
    {
      "cell_type": "code",
      "metadata": {
        "id": "IS23TByQJ2a-",
        "colab_type": "code",
        "colab": {
          "base_uri": "https://localhost:8080/",
          "height": 716
        },
        "outputId": "ef707fc6-f22f-41b2-ba0f-dc4e37441f5f"
      },
      "source": [
        "plt.hist(x_train,bins=10)"
      ],
      "execution_count": null,
      "outputs": [
        {
          "output_type": "execute_result",
          "data": {
            "text/plain": [
              "(array([[6.100e+01, 4.780e+02, 1.310e+03, 2.184e+03, 2.207e+03, 1.276e+03,\n",
              "         4.840e+02, 0.000e+00, 0.000e+00, 0.000e+00],\n",
              "        [0.000e+00, 1.780e+02, 1.417e+03, 3.208e+03, 1.841e+03, 7.160e+02,\n",
              "         3.970e+02, 1.600e+02, 7.100e+01, 1.200e+01],\n",
              "        [0.000e+00, 3.250e+02, 1.708e+03, 2.407e+03, 1.602e+03, 1.564e+03,\n",
              "         3.940e+02, 0.000e+00, 0.000e+00, 0.000e+00],\n",
              "        [0.000e+00, 0.000e+00, 2.936e+03, 3.710e+02, 2.606e+03, 1.900e+03,\n",
              "         1.860e+02, 1.000e+00, 0.000e+00, 0.000e+00],\n",
              "        [0.000e+00, 0.000e+00, 4.039e+03, 0.000e+00, 0.000e+00, 3.704e+03,\n",
              "         0.000e+00, 2.160e+02, 0.000e+00, 4.100e+01],\n",
              "        [0.000e+00, 2.338e+03, 0.000e+00, 0.000e+00, 5.662e+03, 0.000e+00,\n",
              "         0.000e+00, 0.000e+00, 0.000e+00, 0.000e+00],\n",
              "        [0.000e+00, 0.000e+00, 3.873e+03, 0.000e+00, 0.000e+00, 4.127e+03,\n",
              "         0.000e+00, 0.000e+00, 0.000e+00, 0.000e+00],\n",
              "        [0.000e+00, 4.780e+02, 1.742e+03, 1.841e+03, 1.797e+03, 1.792e+03,\n",
              "         3.500e+02, 0.000e+00, 0.000e+00, 0.000e+00],\n",
              "        [0.000e+00, 0.000e+00, 0.000e+00, 6.039e+03, 0.000e+00, 0.000e+00,\n",
              "         1.961e+03, 0.000e+00, 0.000e+00, 0.000e+00],\n",
              "        [0.000e+00, 0.000e+00, 0.000e+00, 6.019e+03, 0.000e+00, 0.000e+00,\n",
              "         1.981e+03, 0.000e+00, 0.000e+00, 0.000e+00],\n",
              "        [0.000e+00, 0.000e+00, 3.650e+03, 0.000e+00, 0.000e+00, 4.350e+03,\n",
              "         0.000e+00, 0.000e+00, 0.000e+00, 0.000e+00]]),\n",
              " array([-3.09834642, -2.31816994, -1.53799346, -0.75781698,  0.0223595 ,\n",
              "         0.80253598,  1.58271246,  2.36288894,  3.14306542,  3.9232419 ,\n",
              "         4.70341838]),\n",
              " <a list of 11 Lists of Patches objects>)"
            ]
          },
          "metadata": {
            "tags": []
          },
          "execution_count": 38
        },
        {
          "output_type": "display_data",
          "data": {
            "image/png": "[encoded data removed]",
            "text/plain": [
              "<Figure size 432x288 with 1 Axes>"
            ]
          },
          "metadata": {
            "tags": [],
            "needs_background": "light"
          }
        }
      ]
    },
    {
      "cell_type": "code",
      "metadata": {
        "id": "Y9DB8FTUKuGZ",
        "colab_type": "code",
        "colab": {
          "base_uri": "https://localhost:8080/",
          "height": 243
        },
        "outputId": "618ef668-1a3e-4ca4-d239-2503ed245aee"
      },
      "source": [
        "x_train"
      ],
      "execution_count": null,
      "outputs": [
        {
          "output_type": "execute_result",
          "data": {
            "text/plain": [
              "array([[ 0.16958176, -0.46460796,  0.00666099, ..., -0.5698444 ,\n",
              "         1.74309049, -1.09168714],\n",
              "       [-2.30455945,  0.30102557, -1.37744033, ...,  1.75486502,\n",
              "        -0.57369368,  0.91601335],\n",
              "       [-1.19119591, -0.94312892, -1.031415  , ..., -0.5698444 ,\n",
              "        -0.57369368, -1.09168714],\n",
              "       ...,\n",
              "       [ 0.9015152 , -0.36890377,  0.00666099, ..., -0.5698444 ,\n",
              "        -0.57369368,  0.91601335],\n",
              "       [-0.62420521, -0.08179119,  1.39076231, ..., -0.5698444 ,\n",
              "         1.74309049, -1.09168714],\n",
              "       [-0.28401079,  0.87525072, -1.37744033, ...,  1.75486502,\n",
              "        -0.57369368, -1.09168714]])"
            ]
          },
          "metadata": {
            "tags": []
          },
          "execution_count": 39
        }
      ]
    },
    {
      "cell_type": "code",
      "metadata": {
        "id": "ZWHFiv8lK5vi",
        "colab_type": "code",
        "colab": {
          "base_uri": "https://localhost:8080/",
          "height": 243
        },
        "outputId": "fb58edf3-a9d6-497c-8823-11b75ddabe51"
      },
      "source": [
        "x_test"
      ],
      "execution_count": null,
      "outputs": [
        {
          "output_type": "execute_result",
          "data": {
            "text/plain": [
              "array([[-0.55204276, -0.36890377,  1.04473698, ...,  1.75486502,\n",
              "        -0.57369368, -1.09168714],\n",
              "       [-1.31490297,  0.10961719, -1.031415  , ..., -0.5698444 ,\n",
              "        -0.57369368, -1.09168714],\n",
              "       [ 0.57162971,  0.30102557,  1.04473698, ..., -0.5698444 ,\n",
              "         1.74309049, -1.09168714],\n",
              "       ...,\n",
              "       [-0.74791227, -0.27319958, -1.37744033, ..., -0.5698444 ,\n",
              "         1.74309049,  0.91601335],\n",
              "       [-0.00566991, -0.46460796, -0.33936434, ...,  1.75486502,\n",
              "        -0.57369368,  0.91601335],\n",
              "       [-0.79945688, -0.84742473,  1.04473698, ...,  1.75486502,\n",
              "        -0.57369368,  0.91601335]])"
            ]
          },
          "metadata": {
            "tags": []
          },
          "execution_count": 40
        }
      ]
    },
    {
      "cell_type": "code",
      "metadata": {
        "id": "mHyE8OiYK7j9",
        "colab_type": "code",
        "colab": {}
      },
      "source": [
        "import keras\n",
        "from keras.models import Sequential\n",
        "from keras.layers import Dense\n",
        "from keras.layers import LeakyReLU, PReLU, ELU\n",
        "from keras.layers import Dropout"
      ],
      "execution_count": null,
      "outputs": []
    },
    {
      "cell_type": "code",
      "metadata": {
        "id": "TlXH8BRyLsas",
        "colab_type": "code",
        "colab": {}
      },
      "source": [
        ""
      ],
      "execution_count": null,
      "outputs": []
    },
    {
      "cell_type": "markdown",
      "metadata": {
        "id": "Alfi8zNHL0Yn",
        "colab_type": "text"
      },
      "source": [
        "Initializing the ANN"
      ]
    },
    {
      "cell_type": "code",
      "metadata": {
        "id": "sCGDBl4ZL3Xd",
        "colab_type": "code",
        "colab": {}
      },
      "source": [
        "classifier = Sequential()"
      ],
      "execution_count": null,
      "outputs": []
    },
    {
      "cell_type": "code",
      "metadata": {
        "id": "shrfUDNHL7fh",
        "colab_type": "code",
        "colab": {}
      },
      "source": [
        "classifier.add(Dense(units=6, kernel_initializer='he_uniform', activation='relu',input_dim=11))\n",
        "classifier.add(Dropout(0.3))"
      ],
      "execution_count": null,
      "outputs": []
    },
    {
      "cell_type": "code",
      "metadata": {
        "id": "jNJ9dxroPvHQ",
        "colab_type": "code",
        "colab": {}
      },
      "source": [
        "classifier.add(Dense(units=6, kernel_initializer='he_uniform',activation='relu'))\n",
        "classifier.add(Dropout(0.4))"
      ],
      "execution_count": null,
      "outputs": []
    },
    {
      "cell_type": "code",
      "metadata": {
        "id": "D9wN78FzQK6u",
        "colab_type": "code",
        "colab": {}
      },
      "source": [
        "classifier.add(Dense(units=1, kernel_initializer='glorot_uniform',activation='sigmoid'))"
      ],
      "execution_count": null,
      "outputs": []
    },
    {
      "cell_type": "code",
      "metadata": {
        "id": "vZCcF35GQdsR",
        "colab_type": "code",
        "colab": {}
      },
      "source": [
        "classifier.compile(optimizer='adam',loss='binary_crossentropy',metrics=['accuracy'])"
      ],
      "execution_count": null,
      "outputs": []
    },
    {
      "cell_type": "code",
      "metadata": {
        "id": "rEoKL9Y1Qu6v",
        "colab_type": "code",
        "colab": {
          "base_uri": "https://localhost:8080/",
          "height": 1000
        },
        "outputId": "85f6980c-300b-4cb3-8a9b-a15a1898cce6"
      },
      "source": [
        "model_history = classifier.fit(x_train,y_train,validation_split=0.33,batch_size=10,nb_epoch=100)"
      ],
      "execution_count": null,
      "outputs": [
        {
          "output_type": "stream",
          "text": [
            "/usr/local/lib/python3.6/dist-packages/ipykernel_launcher.py:1: UserWarning: The `nb_epoch` argument in `fit` has been renamed `epochs`.\n",
            "  \"\"\"Entry point for launching an IPython kernel.\n"
          ],
          "name": "stderr"
        },
        {
          "output_type": "stream",
          "text": [
            "Train on 5359 samples, validate on 2641 samples\n",
            "Epoch 1/100\n",
            "5359/5359 [==============================] - 3s 547us/step - loss: 0.6776 - accuracy: 0.7266 - val_loss: 0.5173 - val_accuracy: 0.7955\n",
            "Epoch 2/100\n",
            "5359/5359 [==============================] - 3s 526us/step - loss: 0.5498 - accuracy: 0.7804 - val_loss: 0.4839 - val_accuracy: 0.7955\n",
            "Epoch 3/100\n",
            "5359/5359 [==============================] - 3s 523us/step - loss: 0.5073 - accuracy: 0.7944 - val_loss: 0.4659 - val_accuracy: 0.7955\n",
            "Epoch 4/100\n",
            "5359/5359 [==============================] - 3s 516us/step - loss: 0.4869 - accuracy: 0.7959 - val_loss: 0.4563 - val_accuracy: 0.7955\n",
            "Epoch 5/100\n",
            "5359/5359 [==============================] - 3s 521us/step - loss: 0.4730 - accuracy: 0.7962 - val_loss: 0.4468 - val_accuracy: 0.7955\n",
            "Epoch 6/100\n",
            "5359/5359 [==============================] - 3s 521us/step - loss: 0.4706 - accuracy: 0.8005 - val_loss: 0.4446 - val_accuracy: 0.7955\n",
            "Epoch 7/100\n",
            "5359/5359 [==============================] - 3s 521us/step - loss: 0.4653 - accuracy: 0.8020 - val_loss: 0.4400 - val_accuracy: 0.7955\n",
            "Epoch 8/100\n",
            "5359/5359 [==============================] - 3s 523us/step - loss: 0.4601 - accuracy: 0.8015 - val_loss: 0.4373 - val_accuracy: 0.7952\n",
            "Epoch 9/100\n",
            "5359/5359 [==============================] - 3s 523us/step - loss: 0.4600 - accuracy: 0.8009 - val_loss: 0.4374 - val_accuracy: 0.7952\n",
            "Epoch 10/100\n",
            "5359/5359 [==============================] - 3s 524us/step - loss: 0.4514 - accuracy: 0.8106 - val_loss: 0.4336 - val_accuracy: 0.8012\n",
            "Epoch 11/100\n",
            "5359/5359 [==============================] - 3s 521us/step - loss: 0.4521 - accuracy: 0.8084 - val_loss: 0.4331 - val_accuracy: 0.7978\n",
            "Epoch 12/100\n",
            "5359/5359 [==============================] - 3s 517us/step - loss: 0.4542 - accuracy: 0.8071 - val_loss: 0.4337 - val_accuracy: 0.7959\n",
            "Epoch 13/100\n",
            "5359/5359 [==============================] - 3s 524us/step - loss: 0.4520 - accuracy: 0.8093 - val_loss: 0.4321 - val_accuracy: 0.7970\n",
            "Epoch 14/100\n",
            "5359/5359 [==============================] - 3s 523us/step - loss: 0.4485 - accuracy: 0.8110 - val_loss: 0.4301 - val_accuracy: 0.7989\n",
            "Epoch 15/100\n",
            "5359/5359 [==============================] - 3s 525us/step - loss: 0.4476 - accuracy: 0.8069 - val_loss: 0.4258 - val_accuracy: 0.8046\n",
            "Epoch 16/100\n",
            "5359/5359 [==============================] - 3s 524us/step - loss: 0.4425 - accuracy: 0.8095 - val_loss: 0.4235 - val_accuracy: 0.7993\n",
            "Epoch 17/100\n",
            "5359/5359 [==============================] - 3s 519us/step - loss: 0.4371 - accuracy: 0.8136 - val_loss: 0.4182 - val_accuracy: 0.8095\n",
            "Epoch 18/100\n",
            "5359/5359 [==============================] - 3s 522us/step - loss: 0.4358 - accuracy: 0.8175 - val_loss: 0.4140 - val_accuracy: 0.8126\n",
            "Epoch 19/100\n",
            "5359/5359 [==============================] - 3s 510us/step - loss: 0.4320 - accuracy: 0.8175 - val_loss: 0.4122 - val_accuracy: 0.8129\n",
            "Epoch 20/100\n",
            "5359/5359 [==============================] - 3s 513us/step - loss: 0.4300 - accuracy: 0.8192 - val_loss: 0.4082 - val_accuracy: 0.8126\n",
            "Epoch 21/100\n",
            "5359/5359 [==============================] - 3s 510us/step - loss: 0.4301 - accuracy: 0.8171 - val_loss: 0.4055 - val_accuracy: 0.8156\n",
            "Epoch 22/100\n",
            "5359/5359 [==============================] - 3s 517us/step - loss: 0.4228 - accuracy: 0.8199 - val_loss: 0.3980 - val_accuracy: 0.8217\n",
            "Epoch 23/100\n",
            "5359/5359 [==============================] - 3s 516us/step - loss: 0.4242 - accuracy: 0.8220 - val_loss: 0.3970 - val_accuracy: 0.8198\n",
            "Epoch 24/100\n",
            "5359/5359 [==============================] - 3s 516us/step - loss: 0.4222 - accuracy: 0.8209 - val_loss: 0.3963 - val_accuracy: 0.8243\n",
            "Epoch 25/100\n",
            "5359/5359 [==============================] - 3s 514us/step - loss: 0.4243 - accuracy: 0.8212 - val_loss: 0.3939 - val_accuracy: 0.8277\n",
            "Epoch 26/100\n",
            "5359/5359 [==============================] - 3s 509us/step - loss: 0.4151 - accuracy: 0.8227 - val_loss: 0.3916 - val_accuracy: 0.8292\n",
            "Epoch 27/100\n",
            "5359/5359 [==============================] - 3s 518us/step - loss: 0.4190 - accuracy: 0.8250 - val_loss: 0.3913 - val_accuracy: 0.8285\n",
            "Epoch 28/100\n",
            "5359/5359 [==============================] - 3s 508us/step - loss: 0.4227 - accuracy: 0.8218 - val_loss: 0.3907 - val_accuracy: 0.8266\n",
            "Epoch 29/100\n",
            "5359/5359 [==============================] - 3s 516us/step - loss: 0.4172 - accuracy: 0.8227 - val_loss: 0.3886 - val_accuracy: 0.8349\n",
            "Epoch 30/100\n",
            "5359/5359 [==============================] - 3s 512us/step - loss: 0.4196 - accuracy: 0.8212 - val_loss: 0.3884 - val_accuracy: 0.8330\n",
            "Epoch 31/100\n",
            "5359/5359 [==============================] - 3s 513us/step - loss: 0.4142 - accuracy: 0.8238 - val_loss: 0.3875 - val_accuracy: 0.8315\n",
            "Epoch 32/100\n",
            "5359/5359 [==============================] - 3s 513us/step - loss: 0.4205 - accuracy: 0.8222 - val_loss: 0.3901 - val_accuracy: 0.8296\n",
            "Epoch 33/100\n",
            "5359/5359 [==============================] - 3s 515us/step - loss: 0.4168 - accuracy: 0.8238 - val_loss: 0.3842 - val_accuracy: 0.8368\n",
            "Epoch 34/100\n",
            "5359/5359 [==============================] - 3s 523us/step - loss: 0.4198 - accuracy: 0.8216 - val_loss: 0.3882 - val_accuracy: 0.8239\n",
            "Epoch 35/100\n",
            "5359/5359 [==============================] - 3s 556us/step - loss: 0.4188 - accuracy: 0.8227 - val_loss: 0.3842 - val_accuracy: 0.8342\n",
            "Epoch 36/100\n",
            "5359/5359 [==============================] - 3s 558us/step - loss: 0.4153 - accuracy: 0.8222 - val_loss: 0.3846 - val_accuracy: 0.8349\n",
            "Epoch 37/100\n",
            "5359/5359 [==============================] - 3s 557us/step - loss: 0.4199 - accuracy: 0.8235 - val_loss: 0.3834 - val_accuracy: 0.8364\n",
            "Epoch 38/100\n",
            "5359/5359 [==============================] - 3s 525us/step - loss: 0.4138 - accuracy: 0.8252 - val_loss: 0.3832 - val_accuracy: 0.8364\n",
            "Epoch 39/100\n",
            "5359/5359 [==============================] - 3s 515us/step - loss: 0.4163 - accuracy: 0.8253 - val_loss: 0.3851 - val_accuracy: 0.8334\n",
            "Epoch 40/100\n",
            "5359/5359 [==============================] - 3s 511us/step - loss: 0.4151 - accuracy: 0.8225 - val_loss: 0.3831 - val_accuracy: 0.8364\n",
            "Epoch 41/100\n",
            "5359/5359 [==============================] - 3s 512us/step - loss: 0.4107 - accuracy: 0.8281 - val_loss: 0.3825 - val_accuracy: 0.8360\n",
            "Epoch 42/100\n",
            "5359/5359 [==============================] - 3s 513us/step - loss: 0.4147 - accuracy: 0.8274 - val_loss: 0.3838 - val_accuracy: 0.8372\n",
            "Epoch 43/100\n",
            "5359/5359 [==============================] - 3s 520us/step - loss: 0.4115 - accuracy: 0.8270 - val_loss: 0.3841 - val_accuracy: 0.8342\n",
            "Epoch 44/100\n",
            "5359/5359 [==============================] - 3s 553us/step - loss: 0.4057 - accuracy: 0.8266 - val_loss: 0.3823 - val_accuracy: 0.8349\n",
            "Epoch 45/100\n",
            "5359/5359 [==============================] - 3s 537us/step - loss: 0.4165 - accuracy: 0.8291 - val_loss: 0.3827 - val_accuracy: 0.8364\n",
            "Epoch 46/100\n",
            "5359/5359 [==============================] - 3s 517us/step - loss: 0.4070 - accuracy: 0.8358 - val_loss: 0.3829 - val_accuracy: 0.8372\n",
            "Epoch 47/100\n",
            "5359/5359 [==============================] - 3s 514us/step - loss: 0.4103 - accuracy: 0.8311 - val_loss: 0.3803 - val_accuracy: 0.8383\n",
            "Epoch 48/100\n",
            "5359/5359 [==============================] - 3s 518us/step - loss: 0.4104 - accuracy: 0.8291 - val_loss: 0.3813 - val_accuracy: 0.8379\n",
            "Epoch 49/100\n",
            "5359/5359 [==============================] - 3s 511us/step - loss: 0.4125 - accuracy: 0.8293 - val_loss: 0.3805 - val_accuracy: 0.8387\n",
            "Epoch 50/100\n",
            "5359/5359 [==============================] - 3s 513us/step - loss: 0.4113 - accuracy: 0.8311 - val_loss: 0.3810 - val_accuracy: 0.8387\n",
            "Epoch 51/100\n",
            "5359/5359 [==============================] - 3s 509us/step - loss: 0.4106 - accuracy: 0.8289 - val_loss: 0.3794 - val_accuracy: 0.8387\n",
            "Epoch 52/100\n",
            "5359/5359 [==============================] - 3s 515us/step - loss: 0.4164 - accuracy: 0.8238 - val_loss: 0.3817 - val_accuracy: 0.8368\n",
            "Epoch 53/100\n",
            "5359/5359 [==============================] - 3s 514us/step - loss: 0.4051 - accuracy: 0.8298 - val_loss: 0.3790 - val_accuracy: 0.8406\n",
            "Epoch 54/100\n",
            "5359/5359 [==============================] - 3s 513us/step - loss: 0.4090 - accuracy: 0.8298 - val_loss: 0.3771 - val_accuracy: 0.8398\n",
            "Epoch 55/100\n",
            "5359/5359 [==============================] - 3s 509us/step - loss: 0.4105 - accuracy: 0.8317 - val_loss: 0.3797 - val_accuracy: 0.8353\n",
            "Epoch 56/100\n",
            "5359/5359 [==============================] - 3s 515us/step - loss: 0.4074 - accuracy: 0.8306 - val_loss: 0.3773 - val_accuracy: 0.8395\n",
            "Epoch 57/100\n",
            "5359/5359 [==============================] - 3s 507us/step - loss: 0.4094 - accuracy: 0.8308 - val_loss: 0.3798 - val_accuracy: 0.8338\n",
            "Epoch 58/100\n",
            "5359/5359 [==============================] - 3s 509us/step - loss: 0.4030 - accuracy: 0.8343 - val_loss: 0.3793 - val_accuracy: 0.8391\n",
            "Epoch 59/100\n",
            "5359/5359 [==============================] - 3s 512us/step - loss: 0.4012 - accuracy: 0.8330 - val_loss: 0.3772 - val_accuracy: 0.8383\n",
            "Epoch 60/100\n",
            "5359/5359 [==============================] - 3s 517us/step - loss: 0.4043 - accuracy: 0.8334 - val_loss: 0.3763 - val_accuracy: 0.8425\n",
            "Epoch 61/100\n",
            "5359/5359 [==============================] - 3s 511us/step - loss: 0.4119 - accuracy: 0.8259 - val_loss: 0.3794 - val_accuracy: 0.8379\n",
            "Epoch 62/100\n",
            "5359/5359 [==============================] - 3s 514us/step - loss: 0.4090 - accuracy: 0.8300 - val_loss: 0.3760 - val_accuracy: 0.8448\n",
            "Epoch 63/100\n",
            "5359/5359 [==============================] - 3s 515us/step - loss: 0.4056 - accuracy: 0.8326 - val_loss: 0.3765 - val_accuracy: 0.8432\n",
            "Epoch 64/100\n",
            "5359/5359 [==============================] - 3s 513us/step - loss: 0.4040 - accuracy: 0.8326 - val_loss: 0.3752 - val_accuracy: 0.8429\n",
            "Epoch 65/100\n",
            "5359/5359 [==============================] - 3s 511us/step - loss: 0.4073 - accuracy: 0.8319 - val_loss: 0.3758 - val_accuracy: 0.8436\n",
            "Epoch 66/100\n",
            "5359/5359 [==============================] - 3s 510us/step - loss: 0.4077 - accuracy: 0.8349 - val_loss: 0.3774 - val_accuracy: 0.8436\n",
            "Epoch 67/100\n",
            "5359/5359 [==============================] - 3s 506us/step - loss: 0.4023 - accuracy: 0.8315 - val_loss: 0.3759 - val_accuracy: 0.8425\n",
            "Epoch 68/100\n",
            "5359/5359 [==============================] - 3s 508us/step - loss: 0.4028 - accuracy: 0.8324 - val_loss: 0.3749 - val_accuracy: 0.8455\n",
            "Epoch 69/100\n",
            "5359/5359 [==============================] - 3s 508us/step - loss: 0.4105 - accuracy: 0.8321 - val_loss: 0.3742 - val_accuracy: 0.8455\n",
            "Epoch 70/100\n",
            "5359/5359 [==============================] - 3s 514us/step - loss: 0.3982 - accuracy: 0.8332 - val_loss: 0.3731 - val_accuracy: 0.8485\n",
            "Epoch 71/100\n",
            "5359/5359 [==============================] - 3s 514us/step - loss: 0.4037 - accuracy: 0.8354 - val_loss: 0.3738 - val_accuracy: 0.8444\n",
            "Epoch 72/100\n",
            "5359/5359 [==============================] - 3s 512us/step - loss: 0.4081 - accuracy: 0.8308 - val_loss: 0.3769 - val_accuracy: 0.8417\n",
            "Epoch 73/100\n",
            "5359/5359 [==============================] - 3s 506us/step - loss: 0.4034 - accuracy: 0.8362 - val_loss: 0.3755 - val_accuracy: 0.8440\n",
            "Epoch 74/100\n",
            "5359/5359 [==============================] - 3s 506us/step - loss: 0.4068 - accuracy: 0.8341 - val_loss: 0.3739 - val_accuracy: 0.8444\n",
            "Epoch 75/100\n",
            "5359/5359 [==============================] - 3s 518us/step - loss: 0.4073 - accuracy: 0.8321 - val_loss: 0.3740 - val_accuracy: 0.8444\n",
            "Epoch 76/100\n",
            "5359/5359 [==============================] - 3s 512us/step - loss: 0.4111 - accuracy: 0.8276 - val_loss: 0.3734 - val_accuracy: 0.8455\n",
            "Epoch 77/100\n",
            "5359/5359 [==============================] - 3s 513us/step - loss: 0.4073 - accuracy: 0.8313 - val_loss: 0.3753 - val_accuracy: 0.8425\n",
            "Epoch 78/100\n",
            "5359/5359 [==============================] - 3s 507us/step - loss: 0.4046 - accuracy: 0.8352 - val_loss: 0.3767 - val_accuracy: 0.8421\n",
            "Epoch 79/100\n",
            "5359/5359 [==============================] - 3s 507us/step - loss: 0.4076 - accuracy: 0.8322 - val_loss: 0.3751 - val_accuracy: 0.8463\n",
            "Epoch 80/100\n",
            "5359/5359 [==============================] - 3s 512us/step - loss: 0.4081 - accuracy: 0.8321 - val_loss: 0.3765 - val_accuracy: 0.8421\n",
            "Epoch 81/100\n",
            "5359/5359 [==============================] - 3s 514us/step - loss: 0.4097 - accuracy: 0.8336 - val_loss: 0.3783 - val_accuracy: 0.8368\n",
            "Epoch 82/100\n",
            "5359/5359 [==============================] - 3s 516us/step - loss: 0.4042 - accuracy: 0.8319 - val_loss: 0.3731 - val_accuracy: 0.8451\n",
            "Epoch 83/100\n",
            "5359/5359 [==============================] - 3s 504us/step - loss: 0.4103 - accuracy: 0.8317 - val_loss: 0.3741 - val_accuracy: 0.8448\n",
            "Epoch 84/100\n",
            "5359/5359 [==============================] - 3s 514us/step - loss: 0.4026 - accuracy: 0.8322 - val_loss: 0.3709 - val_accuracy: 0.8417\n",
            "Epoch 85/100\n",
            "5359/5359 [==============================] - 3s 514us/step - loss: 0.4029 - accuracy: 0.8347 - val_loss: 0.3737 - val_accuracy: 0.8432\n",
            "Epoch 86/100\n",
            "5359/5359 [==============================] - 3s 512us/step - loss: 0.4053 - accuracy: 0.8328 - val_loss: 0.3752 - val_accuracy: 0.8432\n",
            "Epoch 87/100\n",
            "5359/5359 [==============================] - 3s 513us/step - loss: 0.3995 - accuracy: 0.8347 - val_loss: 0.3742 - val_accuracy: 0.8466\n",
            "Epoch 88/100\n",
            "5359/5359 [==============================] - 3s 518us/step - loss: 0.4030 - accuracy: 0.8332 - val_loss: 0.3758 - val_accuracy: 0.8448\n",
            "Epoch 89/100\n",
            "5359/5359 [==============================] - 3s 511us/step - loss: 0.4091 - accuracy: 0.8356 - val_loss: 0.3757 - val_accuracy: 0.8455\n",
            "Epoch 90/100\n",
            "5359/5359 [==============================] - 3s 495us/step - loss: 0.4011 - accuracy: 0.8365 - val_loss: 0.3718 - val_accuracy: 0.8436\n",
            "Epoch 91/100\n",
            "5359/5359 [==============================] - 3s 501us/step - loss: 0.4087 - accuracy: 0.8322 - val_loss: 0.3722 - val_accuracy: 0.8444\n",
            "Epoch 92/100\n",
            "5359/5359 [==============================] - 3s 527us/step - loss: 0.3990 - accuracy: 0.8321 - val_loss: 0.3709 - val_accuracy: 0.8470\n",
            "Epoch 93/100\n",
            "5359/5359 [==============================] - 3s 515us/step - loss: 0.4049 - accuracy: 0.8345 - val_loss: 0.3738 - val_accuracy: 0.8463\n",
            "Epoch 94/100\n",
            "5359/5359 [==============================] - 3s 510us/step - loss: 0.4079 - accuracy: 0.8315 - val_loss: 0.3748 - val_accuracy: 0.8459\n",
            "Epoch 95/100\n",
            "5359/5359 [==============================] - 3s 526us/step - loss: 0.4012 - accuracy: 0.8326 - val_loss: 0.3748 - val_accuracy: 0.8455\n",
            "Epoch 96/100\n",
            "5359/5359 [==============================] - 3s 521us/step - loss: 0.4082 - accuracy: 0.8354 - val_loss: 0.3724 - val_accuracy: 0.8455\n",
            "Epoch 97/100\n",
            "5359/5359 [==============================] - 3s 511us/step - loss: 0.4009 - accuracy: 0.8352 - val_loss: 0.3722 - val_accuracy: 0.8448\n",
            "Epoch 98/100\n",
            "5359/5359 [==============================] - 3s 515us/step - loss: 0.4023 - accuracy: 0.8330 - val_loss: 0.3721 - val_accuracy: 0.8436\n",
            "Epoch 99/100\n",
            "5359/5359 [==============================] - 3s 520us/step - loss: 0.3996 - accuracy: 0.8341 - val_loss: 0.3729 - val_accuracy: 0.8451\n",
            "Epoch 100/100\n",
            "5359/5359 [==============================] - 3s 506us/step - loss: 0.4055 - accuracy: 0.8308 - val_loss: 0.3726 - val_accuracy: 0.8466\n"
          ],
          "name": "stdout"
        }
      ]
    },
    {
      "cell_type": "code",
      "metadata": {
        "id": "Vi2jC6glRNSQ",
        "colab_type": "code",
        "colab": {
          "base_uri": "https://localhost:8080/",
          "height": 139
        },
        "outputId": "b5d9d25f-e6fd-44c5-81db-72974a6de806"
      },
      "source": [
        "y_pred = classifier.predict(x_test)\n",
        "y_pred = (y_pred>0.5)\n",
        "print(y_pred)"
      ],
      "execution_count": null,
      "outputs": [
        {
          "output_type": "stream",
          "text": [
            "[[False]\n",
            " [False]\n",
            " [False]\n",
            " ...\n",
            " [False]\n",
            " [False]\n",
            " [False]]\n"
          ],
          "name": "stdout"
        }
      ]
    },
    {
      "cell_type": "code",
      "metadata": {
        "id": "QAHTlgJdSU5q",
        "colab_type": "code",
        "colab": {
          "base_uri": "https://localhost:8080/",
          "height": 364
        },
        "outputId": "574cd6ef-46a9-47b8-abb4-b2620e7a722d"
      },
      "source": [
        "y_pred[0:20]"
      ],
      "execution_count": null,
      "outputs": [
        {
          "output_type": "execute_result",
          "data": {
            "text/plain": [
              "array([[False],\n",
              "       [False],\n",
              "       [False],\n",
              "       [False],\n",
              "       [False],\n",
              "       [ True],\n",
              "       [False],\n",
              "       [False],\n",
              "       [False],\n",
              "       [ True],\n",
              "       [False],\n",
              "       [False],\n",
              "       [False],\n",
              "       [False],\n",
              "       [False],\n",
              "       [False],\n",
              "       [False],\n",
              "       [False],\n",
              "       [False],\n",
              "       [False]])"
            ]
          },
          "metadata": {
            "tags": []
          },
          "execution_count": 71
        }
      ]
    },
    {
      "cell_type": "code",
      "metadata": {
        "id": "AhdpTnlGRi4V",
        "colab_type": "code",
        "colab": {
          "base_uri": "https://localhost:8080/",
          "height": 52
        },
        "outputId": "aa16e5e7-c4b6-4776-8eef-9f5767041f40"
      },
      "source": [
        "from sklearn.metrics import confusion_matrix, accuracy_score\n",
        "cm = confusion_matrix(y_test,y_pred)\n",
        "print(cm)"
      ],
      "execution_count": null,
      "outputs": [
        {
          "output_type": "stream",
          "text": [
            "[[1572   23]\n",
            " [ 254  151]]\n"
          ],
          "name": "stdout"
        }
      ]
    },
    {
      "cell_type": "code",
      "metadata": {
        "id": "0x1LBeODRxj0",
        "colab_type": "code",
        "colab": {
          "base_uri": "https://localhost:8080/",
          "height": 35
        },
        "outputId": "1cfe8ea7-7729-43ce-8278-1a872995d970"
      },
      "source": [
        "score = accuracy_score(y_test,y_pred)\n",
        "print(score)"
      ],
      "execution_count": null,
      "outputs": [
        {
          "output_type": "stream",
          "text": [
            "0.8615\n"
          ],
          "name": "stdout"
        }
      ]
    },
    {
      "cell_type": "code",
      "metadata": {
        "id": "TLo-qoifSedo",
        "colab_type": "code",
        "colab": {}
      },
      "source": [
        ""
      ],
      "execution_count": null,
      "outputs": []
    }
  ]
}